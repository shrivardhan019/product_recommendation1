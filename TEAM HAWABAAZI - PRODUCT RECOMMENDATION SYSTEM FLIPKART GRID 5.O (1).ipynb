{
 "cells": [
  {
   "cell_type": "code",
   "execution_count": 2,
   "id": "4acb7150",
   "metadata": {},
   "outputs": [],
   "source": [
    "import numpy as np\n",
    "import pandas as pd\n",
    "from sklearn.feature_extraction.text import TfidfVectorizer\n",
    "from implicit.als import AlternatingLeastSquares\n",
    "from sklearn.metrics.pairwise import cosine_similarity\n",
    "from scipy.sparse import coo_matrix"
   ]
  },
  {
   "cell_type": "code",
   "execution_count": 3,
   "id": "4cca54ad",
   "metadata": {},
   "outputs": [],
   "source": [
    "data = pd.read_csv(\"C:\\\\Users\\\\shriv\\\\Downloads\\\\Telegram Desktop\\\\Final merged.csv\")\n",
    "user_col = 'reviewerID'\n",
    "item_col = 'asin'\n",
    "rating_col = 'Rating'\n",
    "title_col = 'title'"
   ]
  },
  {
   "cell_type": "code",
   "execution_count": 4,
   "id": "45f062b9",
   "metadata": {},
   "outputs": [
    {
     "name": "stdout",
     "output_type": "stream",
     "text": [
      "Number of rows in the dataset: 49999\n"
     ]
    }
   ],
   "source": [
    "print(\"Number of rows in the dataset:\", len(data))"
   ]
  },
  {
   "cell_type": "code",
   "execution_count": 5,
   "id": "2b9ce4a7",
   "metadata": {},
   "outputs": [],
   "source": [
    "user_to_index = {user_id: index for index, user_id in enumerate(data[user_col].unique())}\n",
    "item_to_index = {item_id: index for index, item_id in enumerate(data[item_col].unique())}\n",
    "data['user_index'] = data[user_col].map(user_to_index)\n",
    "data['item_index'] = data[item_col].map(item_to_index)"
   ]
  },
  {
   "cell_type": "code",
   "execution_count": 6,
   "id": "b29decef",
   "metadata": {},
   "outputs": [],
   "source": [
    "interaction_matrix = coo_matrix((data[rating_col], (data['user_index'], data['item_index'])))"
   ]
  },
  {
   "cell_type": "code",
   "execution_count": 7,
   "id": "478eb27a",
   "metadata": {},
   "outputs": [],
   "source": [
    "# Specify the column with null values\n",
    "column_with_nulls = 'Rating'  # Adjust with the column name containing nulls\n",
    "\n",
    "# Remove rows with null values in the specified column\n",
    "data = data.dropna(subset=[column_with_nulls])\n"
   ]
  },
  {
   "cell_type": "code",
   "execution_count": 8,
   "id": "b5dfb486",
   "metadata": {},
   "outputs": [
    {
     "data": {
      "text/plain": [
       "asin           0\n",
       "Rating         0\n",
       "reviewText     0\n",
       "reviewerID     0\n",
       "summary        0\n",
       "verified       0\n",
       "brand          0\n",
       "main_cat       0\n",
       "price          0\n",
       "title          0\n",
       "description    0\n",
       "user_index     0\n",
       "item_index     0\n",
       "dtype: int64"
      ]
     },
     "execution_count": 8,
     "metadata": {},
     "output_type": "execute_result"
    }
   ],
   "source": [
    "data.isnull().sum()"
   ]
  },
  {
   "cell_type": "code",
   "execution_count": 9,
   "id": "46a24dd6",
   "metadata": {},
   "outputs": [
    {
     "name": "stderr",
     "output_type": "stream",
     "text": [
      "C:\\Users\\shriv\\AppData\\Local\\Programs\\Python\\Python311\\Lib\\site-packages\\implicit\\utils.py:138: ParameterWarning: Method expects CSR input, and was passed coo_matrix instead. Converting to CSR took 0.0010349750518798828 seconds\n",
      "  warnings.warn(\n"
     ]
    },
    {
     "data": {
      "application/vnd.jupyter.widget-view+json": {
       "model_id": "17e9a77849384a3f9cc2fd5c5d28e942",
       "version_major": 2,
       "version_minor": 0
      },
      "text/plain": [
       "  0%|          | 0/50 [00:00<?, ?it/s]"
      ]
     },
     "metadata": {},
     "output_type": "display_data"
    }
   ],
   "source": [
    "model = AlternatingLeastSquares(factors=10, regularization=0.01, iterations=50)\n",
    "model.fit(interaction_matrix.T)"
   ]
  },
  {
   "cell_type": "code",
   "execution_count": 10,
   "id": "62b04a34",
   "metadata": {},
   "outputs": [],
   "source": [
    "tfidf_vectorizer = TfidfVectorizer(stop_words='english')\n",
    "text_features = tfidf_vectorizer.fit_transform(data['reviewText'] + ' ' + data['summary'])\n"
   ]
  },
  {
   "cell_type": "code",
   "execution_count": 11,
   "id": "80b214ed",
   "metadata": {},
   "outputs": [],
   "source": [
    "item_index_to_id = {index: item_id for item_id, index in item_to_index.items()}\n",
    "item_index_to_title = {index: title for index, title in zip(data['item_index'], data[title_col])}"
   ]
  },
  {
   "cell_type": "code",
   "execution_count": 12,
   "id": "3a962c06",
   "metadata": {},
   "outputs": [],
   "source": [
    "def user_has_few_interactions(user_index, threshold):\n",
    "    user_interactions = interaction_matrix.getrow(user_index).nnz\n",
    "    return user_interactions < threshold\n"
   ]
  },
  {
   "cell_type": "code",
   "execution_count": 13,
   "id": "8241582e",
   "metadata": {},
   "outputs": [],
   "source": [
    "def recommend_content_based(user_index, text_features, num_recommendations):\n",
    "    user_profile = text_features[user_index]\n",
    "    item_similarities = cosine_similarity(user_profile, text_features).flatten()\n",
    "    top_item_indices = item_similarities.argsort()[::-1]\n",
    "\n",
    "    user_interacted_items = set(data[data['user_index'] == user_index]['item_index'].values)\n",
    "    recommended_item_indices_in_text_features = [index for index in top_item_indices if index not in user_interacted_items][:num_recommendations]\n",
    "\n",
    "    return recommended_item_indices_in_text_features\n"
   ]
  },
  {
   "cell_type": "code",
   "execution_count": 14,
   "id": "3db687cc",
   "metadata": {},
   "outputs": [],
   "source": [
    "def recommend_collaborative(user_index, model, num_recommendations):\n",
    "    user_items = interaction_matrix.tocsr()\n",
    "    recommended_items = model.recommend(user_index, user_items, N=num_recommendations)\n",
    "    recommended_item_ids = [item_index_to_id[item_index] for item_index, _ in recommended_items]\n",
    "\n",
    "    print(\"Recommended item IDs:\", recommended_item_ids)\n",
    "\n",
    "    return recommended_item_ids"
   ]
  },
  {
   "cell_type": "code",
   "execution_count": 15,
   "id": "2028bc13",
   "metadata": {},
   "outputs": [],
   "source": [
    "def hybrid_recommendation(user_id, num_recommendations):\n",
    "    user_index = user_to_index.get(user_id)\n",
    "    \n",
    "    print(\"User ID:\", user_id)\n",
    "    print(\"User Index:\", user_index)\n",
    "\n",
    "    if user_index is None:\n",
    "        print(\"User not found.\")\n",
    "        return []\n",
    "\n",
    "    if user_has_few_interactions(user_index, threshold=10):\n",
    "        print(\"Using content-based recommendation.\")\n",
    "        return recommend_content_based(user_index, text_features, num_recommendations)\n",
    "    else:\n",
    "        print(\"Using collaborative recommendation.\")\n",
    "        return recommend_collaborative(user_index, model, num_recommendations)"
   ]
  },
  {
   "cell_type": "code",
   "execution_count": 19,
   "id": "21bd9071",
   "metadata": {},
   "outputs": [],
   "source": [
    "np.random.seed(42)\n",
    "ground_truth_items = np.random.choice(data[item_col].unique(), size=10, replace=False)"
   ]
  },
  {
   "cell_type": "code",
   "execution_count": 28,
   "id": "a6310b46",
   "metadata": {},
   "outputs": [
    {
     "name": "stdout",
     "output_type": "stream",
     "text": [
      "User ID: A1BY99OOCM9Q0K\n",
      "User Index: 36840\n",
      "Using content-based recommendation.\n",
      "Hybrid Recommendations: [36840, 3910, 42688, 24513, 39566, 45171, 6023, 6005, 21900, 2652]\n"
     ]
    }
   ],
   "source": [
    "# Example user ID and number of recommendations\n",
    "user_id_to_recommend = 'A1BY99OOCM9Q0K'\n",
    "num_recommendations = 10\n",
    "\n",
    "# Get hybrid recommendations\n",
    "recommendations = hybrid_recommendation(user_id_to_recommend, num_recommendations)\n",
    "print(\"Hybrid Recommendations:\", recommendations)\n",
    "\n",
    "# Print the recommended titles\n",
    "# Print the recommended titles\n",
    "\n",
    "\n",
    "\n"
   ]
  },
  {
   "cell_type": "code",
   "execution_count": 27,
   "id": "494fe38e",
   "metadata": {},
   "outputs": [],
   "source": [
    "def calculate_metrics(true_positives, false_positives, false_negatives):\n",
    "    precision = true_positives / (true_positives + false_positives)\n",
    "    recall = true_positives / (true_positives + false_negatives)\n",
    "    f1 = 2 * (precision * recall) / (precision + recall) if (precision + recall) > 0 else 0\n",
    "    return precision, recall, f1"
   ]
  },
  {
   "cell_type": "code",
   "execution_count": 23,
   "id": "6e32accb",
   "metadata": {},
   "outputs": [],
   "source": [
    "def evaluate_recommendations(recommended_items, ground_truth_items):\n",
    "    true_positives = len(set(recommended_items) & set(ground_truth_items))\n",
    "    false_positives = len(set(recommended_items) - set(ground_truth_items))\n",
    "    false_negatives = len(set(ground_truth_items) - set(recommended_items))\n",
    "\n",
    "    precision, recall, f1 = calculate_metrics(true_positives, false_positives, false_negatives)\n",
    "    return precision, recall, f1"
   ]
  },
  {
   "cell_type": "code",
   "execution_count": 24,
   "id": "f650a53e",
   "metadata": {},
   "outputs": [],
   "source": [
    "precision, recall, f1 = evaluate_recommendations(recommendations, ground_truth_items)"
   ]
  },
  {
   "cell_type": "code",
   "execution_count": 17,
   "id": "ca82284c",
   "metadata": {},
   "outputs": [
    {
     "name": "stdout",
     "output_type": "stream",
     "text": [
      "Red Heart Super Saver Yarn, Hunter Green\n",
      "B000Y00DDK\n",
      "Aveeno Protect + Hydrate Face Moisturizing Sunscreen Lotion with Broad Spectrum SPF 50 &amp; Antioxidant Oat, Oil-Free, Lightweight, Sweat- &amp; Water-Resistant Sun Protection, Travel-Size, 3 oz\n",
      "B00NQ2P4OQ\n",
      "The First Years GumDrop Newborn Pacifier\n",
      "B01ABP1HLE\n",
      "Lion Brand Yarn Pound of Love Bubblegum, Bubble Gum\n",
      "B0001DS5MQ\n",
      "Shea Moisture - Olive &amp; Marula Baby Head-to-Toe Wash &amp; Shampoo with Avocado &amp; Shea Butter - 13 oz.\n",
      "B00A2WF0D8\n",
      "VELCRO Brand - Industrial Strength | Indoor &amp; Outdoor Use | Superior Holding Power on Smooth Surfaces | Size 4ft x 2in | Tape, Black - Pack of 1\n",
      "B00006IC2T\n",
      "Braun Clean &amp; Renew Refill Cartridges CCR - 2 Count (Packaging May Vary)\n",
      "B000050FDY\n",
      "Braun Clean &amp; Renew Refill Cartridges CCR - 2 Count (Packaging May Vary)\n",
      "B000050FDY\n",
      "Johnson's Baby Oil, Mineral Oil Enriched with Aloe Vera and Vitamin E, 14 fl. oz\n",
      "B01EMZ76IW\n",
      "Aquaphor Healing Ointment,Advanced Therapy Skin Protectant 14 Ounce ( Pack May Vary )\n",
      "B006IB5T4W\n"
     ]
    }
   ],
   "source": [
    "for index in recommendations:\n",
    "    val = data.iloc[index]\n",
    "    print(val.title)\n",
    "    print(val.asin)"
   ]
  },
  {
   "cell_type": "code",
   "execution_count": null,
   "id": "4631c45d",
   "metadata": {},
   "outputs": [],
   "source": [
    "print(\"Precision:\", precision)\n",
    "print(\"Recall:\", recall)\n",
    "print(\"F1-score:\", f1)"
   ]
  },
  {
   "cell_type": "code",
   "execution_count": null,
   "id": "1cb29c83",
   "metadata": {},
   "outputs": [],
   "source": []
  },
  {
   "cell_type": "code",
   "execution_count": null,
   "id": "6c00d36f",
   "metadata": {},
   "outputs": [],
   "source": []
  }
 ],
 "metadata": {
  "kernelspec": {
   "display_name": "Python 3 (ipykernel)",
   "language": "python",
   "name": "python3"
  },
  "language_info": {
   "codemirror_mode": {
    "name": "ipython",
    "version": 3
   },
   "file_extension": ".py",
   "mimetype": "text/x-python",
   "name": "python",
   "nbconvert_exporter": "python",
   "pygments_lexer": "ipython3",
   "version": "3.11.3"
  }
 },
 "nbformat": 4,
 "nbformat_minor": 5
}
